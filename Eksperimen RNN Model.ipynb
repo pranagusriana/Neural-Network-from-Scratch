{
 "cells": [
  {
   "cell_type": "code",
   "execution_count": 1,
   "id": "b1651863",
   "metadata": {},
   "outputs": [],
   "source": [
    "import pandas as pd\n",
    "import numpy as np\n",
    "from NeuralNetwork.layers import LSTM, Dense\n",
    "from NeuralNetwork.lemah import Sequential\n",
    "from sklearn.preprocessing import MinMaxScaler\n",
    "import matplotlib.pyplot as plt"
   ]
  },
  {
   "cell_type": "code",
   "execution_count": 2,
   "id": "14fcf019",
   "metadata": {},
   "outputs": [],
   "source": [
    "train = pd.read_csv(\"./Data/RNN/ETH-USD-Train.csv\")\n",
    "test = pd.read_csv(\"./Data/RNN/ETH-USD-Test.csv\")"
   ]
  },
  {
   "cell_type": "code",
   "execution_count": 3,
   "id": "f0934dbe",
   "metadata": {},
   "outputs": [
    {
     "data": {
      "text/html": [
       "<div>\n",
       "<style scoped>\n",
       "    .dataframe tbody tr th:only-of-type {\n",
       "        vertical-align: middle;\n",
       "    }\n",
       "\n",
       "    .dataframe tbody tr th {\n",
       "        vertical-align: top;\n",
       "    }\n",
       "\n",
       "    .dataframe thead th {\n",
       "        text-align: right;\n",
       "    }\n",
       "</style>\n",
       "<table border=\"1\" class=\"dataframe\">\n",
       "  <thead>\n",
       "    <tr style=\"text-align: right;\">\n",
       "      <th></th>\n",
       "      <th>Date</th>\n",
       "      <th>Open</th>\n",
       "      <th>High</th>\n",
       "      <th>Low</th>\n",
       "      <th>Close</th>\n",
       "      <th>Volume</th>\n",
       "    </tr>\n",
       "  </thead>\n",
       "  <tbody>\n",
       "    <tr>\n",
       "      <th>0</th>\n",
       "      <td>2017-11-09 00:00:00+00:00</td>\n",
       "      <td>308.644989</td>\n",
       "      <td>329.451996</td>\n",
       "      <td>307.056000</td>\n",
       "      <td>320.884003</td>\n",
       "      <td>893249984</td>\n",
       "    </tr>\n",
       "    <tr>\n",
       "      <th>1</th>\n",
       "      <td>2017-11-10 00:00:00+00:00</td>\n",
       "      <td>320.670990</td>\n",
       "      <td>324.717987</td>\n",
       "      <td>294.541992</td>\n",
       "      <td>299.252991</td>\n",
       "      <td>885985984</td>\n",
       "    </tr>\n",
       "    <tr>\n",
       "      <th>2</th>\n",
       "      <td>2017-11-11 00:00:00+00:00</td>\n",
       "      <td>298.585999</td>\n",
       "      <td>319.453003</td>\n",
       "      <td>298.191986</td>\n",
       "      <td>314.681000</td>\n",
       "      <td>842300992</td>\n",
       "    </tr>\n",
       "    <tr>\n",
       "      <th>3</th>\n",
       "      <td>2017-11-12 00:00:00+00:00</td>\n",
       "      <td>314.690002</td>\n",
       "      <td>319.153015</td>\n",
       "      <td>298.513000</td>\n",
       "      <td>307.907990</td>\n",
       "      <td>1613479936</td>\n",
       "    </tr>\n",
       "    <tr>\n",
       "      <th>4</th>\n",
       "      <td>2017-11-13 00:00:00+00:00</td>\n",
       "      <td>307.024994</td>\n",
       "      <td>328.415009</td>\n",
       "      <td>307.024994</td>\n",
       "      <td>316.716003</td>\n",
       "      <td>1041889984</td>\n",
       "    </tr>\n",
       "  </tbody>\n",
       "</table>\n",
       "</div>"
      ],
      "text/plain": [
       "                        Date        Open        High         Low       Close  \\\n",
       "0  2017-11-09 00:00:00+00:00  308.644989  329.451996  307.056000  320.884003   \n",
       "1  2017-11-10 00:00:00+00:00  320.670990  324.717987  294.541992  299.252991   \n",
       "2  2017-11-11 00:00:00+00:00  298.585999  319.453003  298.191986  314.681000   \n",
       "3  2017-11-12 00:00:00+00:00  314.690002  319.153015  298.513000  307.907990   \n",
       "4  2017-11-13 00:00:00+00:00  307.024994  328.415009  307.024994  316.716003   \n",
       "\n",
       "       Volume  \n",
       "0   893249984  \n",
       "1   885985984  \n",
       "2   842300992  \n",
       "3  1613479936  \n",
       "4  1041889984  "
      ]
     },
     "metadata": {},
     "output_type": "display_data"
    },
    {
     "data": {
      "text/html": [
       "<div>\n",
       "<style scoped>\n",
       "    .dataframe tbody tr th:only-of-type {\n",
       "        vertical-align: middle;\n",
       "    }\n",
       "\n",
       "    .dataframe tbody tr th {\n",
       "        vertical-align: top;\n",
       "    }\n",
       "\n",
       "    .dataframe thead th {\n",
       "        text-align: right;\n",
       "    }\n",
       "</style>\n",
       "<table border=\"1\" class=\"dataframe\">\n",
       "  <thead>\n",
       "    <tr style=\"text-align: right;\">\n",
       "      <th></th>\n",
       "      <th>Date</th>\n",
       "      <th>Open</th>\n",
       "      <th>High</th>\n",
       "      <th>Low</th>\n",
       "      <th>Close</th>\n",
       "      <th>Volume</th>\n",
       "    </tr>\n",
       "  </thead>\n",
       "  <tbody>\n",
       "    <tr>\n",
       "      <th>0</th>\n",
       "      <td>2022-08-25 00:00:00+00:00</td>\n",
       "      <td>1657.336548</td>\n",
       "      <td>1718.183228</td>\n",
       "      <td>1656.856079</td>\n",
       "      <td>1696.457031</td>\n",
       "      <td>14818795695</td>\n",
       "    </tr>\n",
       "    <tr>\n",
       "      <th>1</th>\n",
       "      <td>2022-08-26 00:00:00+00:00</td>\n",
       "      <td>1696.324585</td>\n",
       "      <td>1698.561035</td>\n",
       "      <td>1498.771240</td>\n",
       "      <td>1507.782837</td>\n",
       "      <td>26713710143</td>\n",
       "    </tr>\n",
       "    <tr>\n",
       "      <th>2</th>\n",
       "      <td>2022-08-27 00:00:00+00:00</td>\n",
       "      <td>1508.156982</td>\n",
       "      <td>1517.150024</td>\n",
       "      <td>1454.282959</td>\n",
       "      <td>1491.395020</td>\n",
       "      <td>18120831899</td>\n",
       "    </tr>\n",
       "    <tr>\n",
       "      <th>3</th>\n",
       "      <td>2022-08-28 00:00:00+00:00</td>\n",
       "      <td>1491.206787</td>\n",
       "      <td>1505.791992</td>\n",
       "      <td>1430.547363</td>\n",
       "      <td>1430.547363</td>\n",
       "      <td>12823572918</td>\n",
       "    </tr>\n",
       "    <tr>\n",
       "      <th>4</th>\n",
       "      <td>2022-08-29 00:00:00+00:00</td>\n",
       "      <td>1430.439453</td>\n",
       "      <td>1556.309570</td>\n",
       "      <td>1427.728394</td>\n",
       "      <td>1553.037354</td>\n",
       "      <td>17965837488</td>\n",
       "    </tr>\n",
       "  </tbody>\n",
       "</table>\n",
       "</div>"
      ],
      "text/plain": [
       "                        Date         Open         High          Low  \\\n",
       "0  2022-08-25 00:00:00+00:00  1657.336548  1718.183228  1656.856079   \n",
       "1  2022-08-26 00:00:00+00:00  1696.324585  1698.561035  1498.771240   \n",
       "2  2022-08-27 00:00:00+00:00  1508.156982  1517.150024  1454.282959   \n",
       "3  2022-08-28 00:00:00+00:00  1491.206787  1505.791992  1430.547363   \n",
       "4  2022-08-29 00:00:00+00:00  1430.439453  1556.309570  1427.728394   \n",
       "\n",
       "         Close       Volume  \n",
       "0  1696.457031  14818795695  \n",
       "1  1507.782837  26713710143  \n",
       "2  1491.395020  18120831899  \n",
       "3  1430.547363  12823572918  \n",
       "4  1553.037354  17965837488  "
      ]
     },
     "metadata": {},
     "output_type": "display_data"
    }
   ],
   "source": [
    "display(train.head())\n",
    "display(test.head())"
   ]
  },
  {
   "cell_type": "code",
   "execution_count": 4,
   "id": "1af78d77",
   "metadata": {},
   "outputs": [
    {
     "data": {
      "text/html": [
       "<div>\n",
       "<style scoped>\n",
       "    .dataframe tbody tr th:only-of-type {\n",
       "        vertical-align: middle;\n",
       "    }\n",
       "\n",
       "    .dataframe tbody tr th {\n",
       "        vertical-align: top;\n",
       "    }\n",
       "\n",
       "    .dataframe thead th {\n",
       "        text-align: right;\n",
       "    }\n",
       "</style>\n",
       "<table border=\"1\" class=\"dataframe\">\n",
       "  <thead>\n",
       "    <tr style=\"text-align: right;\">\n",
       "      <th></th>\n",
       "      <th>Open</th>\n",
       "      <th>High</th>\n",
       "      <th>Low</th>\n",
       "      <th>Close</th>\n",
       "      <th>Volume</th>\n",
       "    </tr>\n",
       "  </thead>\n",
       "  <tbody>\n",
       "    <tr>\n",
       "      <th>0</th>\n",
       "      <td>308.644989</td>\n",
       "      <td>329.451996</td>\n",
       "      <td>307.056000</td>\n",
       "      <td>320.884003</td>\n",
       "      <td>893249984</td>\n",
       "    </tr>\n",
       "    <tr>\n",
       "      <th>1</th>\n",
       "      <td>320.670990</td>\n",
       "      <td>324.717987</td>\n",
       "      <td>294.541992</td>\n",
       "      <td>299.252991</td>\n",
       "      <td>885985984</td>\n",
       "    </tr>\n",
       "    <tr>\n",
       "      <th>2</th>\n",
       "      <td>298.585999</td>\n",
       "      <td>319.453003</td>\n",
       "      <td>298.191986</td>\n",
       "      <td>314.681000</td>\n",
       "      <td>842300992</td>\n",
       "    </tr>\n",
       "    <tr>\n",
       "      <th>3</th>\n",
       "      <td>314.690002</td>\n",
       "      <td>319.153015</td>\n",
       "      <td>298.513000</td>\n",
       "      <td>307.907990</td>\n",
       "      <td>1613479936</td>\n",
       "    </tr>\n",
       "    <tr>\n",
       "      <th>4</th>\n",
       "      <td>307.024994</td>\n",
       "      <td>328.415009</td>\n",
       "      <td>307.024994</td>\n",
       "      <td>316.716003</td>\n",
       "      <td>1041889984</td>\n",
       "    </tr>\n",
       "    <tr>\n",
       "      <th>...</th>\n",
       "      <td>...</td>\n",
       "      <td>...</td>\n",
       "      <td>...</td>\n",
       "      <td>...</td>\n",
       "      <td>...</td>\n",
       "    </tr>\n",
       "    <tr>\n",
       "      <th>1745</th>\n",
       "      <td>1612.650635</td>\n",
       "      <td>1652.218750</td>\n",
       "      <td>1534.298828</td>\n",
       "      <td>1577.003784</td>\n",
       "      <td>18334580263</td>\n",
       "    </tr>\n",
       "    <tr>\n",
       "      <th>1746</th>\n",
       "      <td>1576.543579</td>\n",
       "      <td>1640.936523</td>\n",
       "      <td>1569.046509</td>\n",
       "      <td>1619.318970</td>\n",
       "      <td>15849221752</td>\n",
       "    </tr>\n",
       "    <tr>\n",
       "      <th>1747</th>\n",
       "      <td>1619.166870</td>\n",
       "      <td>1622.778809</td>\n",
       "      <td>1535.014771</td>\n",
       "      <td>1622.505859</td>\n",
       "      <td>18557078599</td>\n",
       "    </tr>\n",
       "    <tr>\n",
       "      <th>1748</th>\n",
       "      <td>1622.939331</td>\n",
       "      <td>1666.676514</td>\n",
       "      <td>1569.428589</td>\n",
       "      <td>1662.769897</td>\n",
       "      <td>18322041914</td>\n",
       "    </tr>\n",
       "    <tr>\n",
       "      <th>1749</th>\n",
       "      <td>1662.695435</td>\n",
       "      <td>1686.557739</td>\n",
       "      <td>1610.099243</td>\n",
       "      <td>1657.059204</td>\n",
       "      <td>16780932907</td>\n",
       "    </tr>\n",
       "  </tbody>\n",
       "</table>\n",
       "<p>1750 rows × 5 columns</p>\n",
       "</div>"
      ],
      "text/plain": [
       "             Open         High          Low        Close       Volume\n",
       "0      308.644989   329.451996   307.056000   320.884003    893249984\n",
       "1      320.670990   324.717987   294.541992   299.252991    885985984\n",
       "2      298.585999   319.453003   298.191986   314.681000    842300992\n",
       "3      314.690002   319.153015   298.513000   307.907990   1613479936\n",
       "4      307.024994   328.415009   307.024994   316.716003   1041889984\n",
       "...           ...          ...          ...          ...          ...\n",
       "1745  1612.650635  1652.218750  1534.298828  1577.003784  18334580263\n",
       "1746  1576.543579  1640.936523  1569.046509  1619.318970  15849221752\n",
       "1747  1619.166870  1622.778809  1535.014771  1622.505859  18557078599\n",
       "1748  1622.939331  1666.676514  1569.428589  1662.769897  18322041914\n",
       "1749  1662.695435  1686.557739  1610.099243  1657.059204  16780932907\n",
       "\n",
       "[1750 rows x 5 columns]"
      ]
     },
     "execution_count": 4,
     "metadata": {},
     "output_type": "execute_result"
    }
   ],
   "source": [
    "train = train.drop(\"Date\", axis=1)\n",
    "train"
   ]
  },
  {
   "cell_type": "code",
   "execution_count": 5,
   "id": "842ed9c8",
   "metadata": {},
   "outputs": [
    {
     "data": {
      "text/plain": [
       "array(['Open', 'High', 'Low', 'Close', 'Volume'], dtype=object)"
      ]
     },
     "execution_count": 5,
     "metadata": {},
     "output_type": "execute_result"
    }
   ],
   "source": [
    "label = train.columns.values\n",
    "label"
   ]
  },
  {
   "cell_type": "code",
   "execution_count": 6,
   "id": "da443cdf",
   "metadata": {},
   "outputs": [],
   "source": [
    "N_PAST = 32\n",
    "N_FEATURES = 5"
   ]
  },
  {
   "cell_type": "code",
   "execution_count": 7,
   "id": "0260bd65",
   "metadata": {},
   "outputs": [
    {
     "data": {
      "text/plain": [
       "array([[0.04747676, 0.05078878, 0.04837454, 0.0500395 , 0.0032377 ],\n",
       "       [0.05002152, 0.04980383, 0.04567477, 0.0454642 , 0.00315108],\n",
       "       [0.04534823, 0.04870841, 0.04646222, 0.04872747, 0.00263016],\n",
       "       ...,\n",
       "       [0.32478943, 0.31987522, 0.31329436, 0.32535309, 0.21386946],\n",
       "       [0.3255877 , 0.32900847, 0.3207188 , 0.33386958, 0.21106678],\n",
       "       [0.33400029, 0.33314491, 0.32949308, 0.33266167, 0.19268987]])"
      ]
     },
     "execution_count": 7,
     "metadata": {},
     "output_type": "execute_result"
    }
   ],
   "source": [
    "scaler = MinMaxScaler()\n",
    "train = scaler.fit_transform(train)\n",
    "train"
   ]
  },
  {
   "cell_type": "code",
   "execution_count": 8,
   "id": "7bfc17f4",
   "metadata": {},
   "outputs": [],
   "source": [
    "model = Sequential([\n",
    "    LSTM(32, input_shape=(N_PAST, N_FEATURES)),\n",
    "    Dense(N_FEATURES, activation='relu')\n",
    "])"
   ]
  },
  {
   "cell_type": "code",
   "execution_count": 9,
   "id": "aeefcb8d",
   "metadata": {},
   "outputs": [
    {
     "name": "stdout",
     "output_type": "stream",
     "text": [
      "Layer (type)    Output Shape      Param #\n",
      "--------------  --------------  ---------\n",
      "LSTM            (32,)                4864\n",
      "Dense           (5,)                  165\n",
      "Total params :  5029\n",
      "Trainable params :  5029\n",
      "Non-trainable params :  0\n"
     ]
    }
   ],
   "source": [
    "model.summary()"
   ]
  },
  {
   "cell_type": "code",
   "execution_count": 10,
   "id": "40d6fd76",
   "metadata": {},
   "outputs": [],
   "source": [
    "test_pred = []\n",
    "cur_input = train[N_PAST * -1:]\n",
    "for i in range(len(test)):\n",
    "    pred_test = model(np.expand_dims(cur_input[N_PAST * -1:], axis=0))\n",
    "    pred_test_denorm = scaler.inverse_transform(pred_test)\n",
    "    test_pred.append(pred_test_denorm[0])\n",
    "    cur_input = np.append(cur_input, pred_test, axis=0)"
   ]
  },
  {
   "cell_type": "code",
   "execution_count": 11,
   "id": "f8549a45",
   "metadata": {},
   "outputs": [],
   "source": [
    "test_pred = np.array(test_pred)"
   ]
  },
  {
   "cell_type": "code",
   "execution_count": 12,
   "id": "7f29c687",
   "metadata": {},
   "outputs": [
    {
     "data": {
      "text/plain": [
       "<matplotlib.legend.Legend at 0x2ed002e5db0>"
      ]
     },
     "execution_count": 12,
     "metadata": {},
     "output_type": "execute_result"
    },
    {
     "data": {
      "image/png": "[encoded data removed]",
      "text/plain": [
       "<Figure size 432x288 with 1 Axes>"
      ]
     },
     "metadata": {
      "needs_background": "light"
     },
     "output_type": "display_data"
    }
   ],
   "source": [
    "for i in range(N_FEATURES-1):\n",
    "    plt.plot(test_pred[:, i], label=label[i])\n",
    "plt.legend()"
   ]
  },
  {
   "cell_type": "code",
   "execution_count": 13,
   "id": "820cd331",
   "metadata": {},
   "outputs": [
    {
     "data": {
      "text/plain": [
       "<matplotlib.legend.Legend at 0x2ed002e74c0>"
      ]
     },
     "execution_count": 13,
     "metadata": {},
     "output_type": "execute_result"
    },
    {
     "data": {
      "image/png": "[encoded data removed]",
      "text/plain": [
       "<Figure size 432x288 with 1 Axes>"
      ]
     },
     "metadata": {
      "needs_background": "light"
     },
     "output_type": "display_data"
    }
   ],
   "source": [
    "plt.plot(test_pred[:, 4], label=label[4])\n",
    "plt.legend()"
   ]
  }
 ],
 "metadata": {
  "kernelspec": {
   "display_name": "Python 3 (ipykernel)",
   "language": "python",
   "name": "python3"
  },
  "language_info": {
   "codemirror_mode": {
    "name": "ipython",
    "version": 3
   },
   "file_extension": ".py",
   "mimetype": "text/x-python",
   "name": "python",
   "nbconvert_exporter": "python",
   "pygments_lexer": "ipython3",
   "version": "3.10.6"
  }
 },
 "nbformat": 4,
 "nbformat_minor": 5
}
