{
 "cells": [
  {
   "cell_type": "markdown",
   "id": "e9b4d9ad",
   "metadata": {},
   "source": [
    "# CNN"
   ]
  },
  {
   "cell_type": "code",
   "execution_count": 2,
   "id": "67f14da5",
   "metadata": {},
   "outputs": [],
   "source": [
    "import numpy as np\n",
    "from PIL import Image\n",
    "from NeuralNetwork.layers import Conv2D, Flatten, Dense\n",
    "from NeuralNetwork.lemah import Sequential\n",
    "from NeuralNetwork.losses import mse\n",
    "from NeuralNetwork.optimizers import SGD\n",
    "from NeuralNetwork.utils import data_gen\n",
    "from sklearn.metrics import accuracy_score, confusion_matrix"
   ]
  },
  {
   "cell_type": "code",
   "execution_count": 3,
   "id": "8307cb65",
   "metadata": {},
   "outputs": [
    {
     "name": "stdout",
     "output_type": "stream",
     "text": [
      "(90, 2, 50, 50, 3) (90, 2, 1) {'cats': 0, 'dogs': 1}\n",
      "(19, 2, 50, 50, 3) (19, 2, 1) {'cats': 0, 'dogs': 1}\n"
     ]
    }
   ],
   "source": [
    "img_size = 50\n",
    "X_train, y_train, map_train = data_gen(\"./Data/CNN/train\", img_size, 2, 42)\n",
    "X_test, y_test, map_test = data_gen(\"./Data/CNN/test\", img_size, 2, 42)\n",
    "print(X_train.shape, y_train.shape, map_train)\n",
    "print(X_test.shape, y_test.shape, map_test)"
   ]
  },
  {
   "cell_type": "code",
   "execution_count": 4,
   "id": "f18c53d2",
   "metadata": {},
   "outputs": [],
   "source": [
    "model = Sequential(\n",
    "    [\n",
    "        Conv2D(16, (3, 3), strides=1, padding=(0, 0), pooling_filter_size=(2, 2), pooling_strides=(2, 2), pooling_mode='max', input_shape=(img_size, img_size, 3)),\n",
    "        Conv2D(32, (3, 3), strides=1, padding=(0, 0), pooling_filter_size=(2, 2), pooling_strides=(2, 2), pooling_mode='max'),\n",
    "        Conv2D(64, (3, 3), strides=1, padding=(0, 0), pooling_filter_size=(2, 2), pooling_strides=(2, 2), pooling_mode='max'),\n",
    "        Flatten(),\n",
    "        Dense(512, activation='relu'),\n",
    "        Dense(1, activation='sigmoid')\n",
    "    ]\n",
    ")"
   ]
  },
  {
   "cell_type": "code",
   "execution_count": 5,
   "id": "0317ca98",
   "metadata": {},
   "outputs": [
    {
     "name": "stdout",
     "output_type": "stream",
     "text": [
      "Layer (type)    Output Shape      Param #\n",
      "--------------  --------------  ---------\n",
      "Conv2D          (24, 24, 16)          448\n",
      "Conv2D          (11, 11, 32)         4640\n",
      "Conv2D          (4, 4, 64)          18496\n",
      "Flatten         (1024,)                 0\n",
      "Dense           (512,)             524800\n",
      "Dense           (1,)                  513\n",
      "Total params :  548897\n",
      "Trainable params :  548897\n",
      "Non-trainable params :  0\n"
     ]
    }
   ],
   "source": [
    "model.summary()"
   ]
  },
  {
   "cell_type": "code",
   "execution_count": 6,
   "id": "2fbf8fe9",
   "metadata": {},
   "outputs": [],
   "source": [
    "optim = SGD(learning_rate=0.001, momentum=0.1)\n",
    "loss = mse\n",
    "model.compile(optim, loss)"
   ]
  },
  {
   "cell_type": "code",
   "execution_count": 7,
   "id": "e7dabcf2",
   "metadata": {},
   "outputs": [
    {
     "name": "stdout",
     "output_type": "stream",
     "text": [
      "1/2, error=20.576173956271113\n",
      "2/2, error=22.046979516694034\n"
     ]
    }
   ],
   "source": [
    "model.fit(X_train, y_train, epochs=2)"
   ]
  },
  {
   "cell_type": "code",
   "execution_count": 8,
   "id": "0c971118",
   "metadata": {},
   "outputs": [
    {
     "name": "stdout",
     "output_type": "stream",
     "text": [
      "[1 0 1 1 1 1 1 0 1 1 1 1 1 1 1 1 1 1 1 1 0 1 1 1 1 1 1 1 1 0 1 1 0 0 1 1 0\n",
      " 1]\n",
      "[0 0 0 1 0 0 1 1 1 0 1 0 0 1 1 0 0 1 0 1 0 0 0 1 1 0 1 1 0 1 1 1 0 1 0 1 0\n",
      " 0]\n",
      "Accuracy:  0.5\n",
      "Confusion Matrix:\n",
      "[[ 4 16]\n",
      " [ 3 15]]\n"
     ]
    }
   ],
   "source": [
    "y_pred = []\n",
    "y_true = []\n",
    "for X, y in zip(X_test, y_test):\n",
    "    out = model(X)\n",
    "    y_pred.append(out)\n",
    "    y_true.append(y)\n",
    "y_pred = np.array(y_pred).reshape(-1)\n",
    "y_pred[y_pred > 0.5] = 1\n",
    "y_pred[y_pred <= 0.5] = 0\n",
    "y_pred = y_pred.astype(int)\n",
    "y_true = np.array(y_true).reshape(-1)\n",
    "print(y_pred)\n",
    "print(y_true)\n",
    "print(\"Accuracy: \", accuracy_score(y_true, y_pred))\n",
    "print(\"Confusion Matrix:\")\n",
    "print(confusion_matrix(y_true, y_pred))"
   ]
  }
 ],
 "metadata": {
  "kernelspec": {
   "display_name": "Python 3 (ipykernel)",
   "language": "python",
   "name": "python3"
  },
  "language_info": {
   "codemirror_mode": {
    "name": "ipython",
    "version": 3
   },
   "file_extension": ".py",
   "mimetype": "text/x-python",
   "name": "python",
   "nbconvert_exporter": "python",
   "pygments_lexer": "ipython3",
   "version": "3.10.6"
  }
 },
 "nbformat": 4,
 "nbformat_minor": 5
}
